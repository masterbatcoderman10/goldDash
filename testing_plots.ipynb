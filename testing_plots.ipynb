{
 "cells": [
  {
   "cell_type": "code",
   "execution_count": 21,
   "metadata": {},
   "outputs": [],
   "source": [
    "import plotly.graph_objects as go\n",
    "import plotly.express as px\n",
    "import os\n",
    "import pandas as pd\n",
    "import numpy as np\n",
    "from sqlalchemy import Numeric, Date, create_engine, select, insert\n",
    "from sqlalchemy.orm import DeclarativeBase, Mapped, mapped_column, Session\n",
    "import matplotlib.pyplot as plt\n",
    "from db_tables import *\n",
    "import os\n",
    "from dotenv import load_dotenv"
   ]
  },
  {
   "cell_type": "code",
   "execution_count": 8,
   "metadata": {},
   "outputs": [],
   "source": [
    "load_dotenv()\n",
    "url = os.getenv('PSQL_URL')"
   ]
  },
  {
   "cell_type": "markdown",
   "metadata": {},
   "source": [
    "### Method 1: Manual Way"
   ]
  },
  {
   "cell_type": "code",
   "execution_count": 9,
   "metadata": {},
   "outputs": [
    {
     "name": "stdout",
     "output_type": "stream",
     "text": [
      "2023-11-13 16:40:11,687 INFO sqlalchemy.engine.Engine select pg_catalog.version()\n",
      "2023-11-13 16:40:11,688 INFO sqlalchemy.engine.Engine [raw sql] {}\n",
      "2023-11-13 16:40:12,214 INFO sqlalchemy.engine.Engine select current_schema()\n",
      "2023-11-13 16:40:12,215 INFO sqlalchemy.engine.Engine [raw sql] {}\n",
      "2023-11-13 16:40:13,115 INFO sqlalchemy.engine.Engine show standard_conforming_strings\n",
      "2023-11-13 16:40:13,117 INFO sqlalchemy.engine.Engine [raw sql] {}\n",
      "2023-11-13 16:40:13,573 INFO sqlalchemy.engine.Engine BEGIN (implicit)\n",
      "2023-11-13 16:40:13,576 INFO sqlalchemy.engine.Engine SELECT goldrates.pricedate, goldrates.price22k, goldrates.price24k, goldrates.price18k \n",
      "FROM goldrates\n",
      "2023-11-13 16:40:13,577 INFO sqlalchemy.engine.Engine [generated in 0.00097s] {}\n",
      "2023-11-13 16:40:14,535 INFO sqlalchemy.engine.Engine ROLLBACK\n"
     ]
    }
   ],
   "source": [
    "engine = create_engine(url, echo=True)\n",
    "stmt = select(GoldRates)\n",
    "rows = []\n",
    "with Session(engine) as session:\n",
    "    for i, row in enumerate(session.execute(stmt)):\n",
    "        rows.append(row)"
   ]
  },
  {
   "cell_type": "code",
   "execution_count": 14,
   "metadata": {},
   "outputs": [
    {
     "data": {
      "text/plain": [
       "GoldRates(pricedate=2021-07-01, price22k=202.0, price24k=215.0, price18k=165.25)"
      ]
     },
     "execution_count": 14,
     "metadata": {},
     "output_type": "execute_result"
    }
   ],
   "source": [
    "rows[0][0]"
   ]
  },
  {
   "cell_type": "code",
   "execution_count": 13,
   "metadata": {},
   "outputs": [],
   "source": [
    "df_data = [[row[0].pricedate, row[0].price22k, row[0].price24k, row[0].price18k] for row in rows]"
   ]
  },
  {
   "cell_type": "code",
   "execution_count": 16,
   "metadata": {},
   "outputs": [],
   "source": [
    "df = pd.DataFrame(df_data, columns=['Date', '22k', '24k', '18k'])"
   ]
  },
  {
   "cell_type": "code",
   "execution_count": 18,
   "metadata": {},
   "outputs": [],
   "source": [
    "df['Date'] = pd.to_datetime(df['Date'])\n",
    "df = df.set_index('Date')"
   ]
  },
  {
   "cell_type": "code",
   "execution_count": 23,
   "metadata": {},
   "outputs": [
    {
     "name": "stdout",
     "output_type": "stream",
     "text": [
      "<class 'pandas.core.frame.DataFrame'>\n",
      "DatetimeIndex: 865 entries, 2021-07-01 to 2023-11-13\n",
      "Data columns (total 3 columns):\n",
      " #   Column  Non-Null Count  Dtype \n",
      "---  ------  --------------  ----- \n",
      " 0   22k     865 non-null    object\n",
      " 1   24k     865 non-null    object\n",
      " 2   18k     865 non-null    object\n",
      "dtypes: object(3)\n",
      "memory usage: 27.0+ KB\n"
     ]
    }
   ],
   "source": [
    "df.info()"
   ]
  },
  {
   "cell_type": "markdown",
   "metadata": {},
   "source": [
    "### Automated"
   ]
  },
  {
   "cell_type": "code",
   "execution_count": 26,
   "metadata": {},
   "outputs": [
    {
     "name": "stdout",
     "output_type": "stream",
     "text": [
      "2023-11-13 16:47:55,692 INFO sqlalchemy.engine.Engine BEGIN (implicit)\n",
      "2023-11-13 16:47:55,693 INFO sqlalchemy.engine.Engine SELECT pg_catalog.pg_class.relname \n",
      "FROM pg_catalog.pg_class JOIN pg_catalog.pg_namespace ON pg_catalog.pg_namespace.oid = pg_catalog.pg_class.relnamespace \n",
      "WHERE pg_catalog.pg_class.relname = %(table_name)s AND pg_catalog.pg_class.relkind = ANY (ARRAY[%(param_1)s, %(param_2)s, %(param_3)s, %(param_4)s, %(param_5)s]) AND pg_catalog.pg_table_is_visible(pg_catalog.pg_class.oid) AND pg_catalog.pg_namespace.nspname != %(nspname_1)s\n",
      "2023-11-13 16:47:55,694 INFO sqlalchemy.engine.Engine [cached since 25.95s ago] {'table_name': <sqlalchemy.sql.selectable.Select object at 0x7fe7c1a8eee0>, 'param_1': 'r', 'param_2': 'p', 'param_3': 'f', 'param_4': 'v', 'param_5': 'm', 'nspname_1': 'pg_catalog'}\n",
      "2023-11-13 16:47:55,695 INFO sqlalchemy.engine.Engine SELECT goldrates.pricedate, goldrates.price22k, goldrates.price24k, goldrates.price18k \n",
      "FROM goldrates\n",
      "2023-11-13 16:47:55,696 INFO sqlalchemy.engine.Engine [cached since 462.1s ago] {}\n",
      "2023-11-13 16:47:56,742 INFO sqlalchemy.engine.Engine ROLLBACK\n"
     ]
    }
   ],
   "source": [
    "df_2 = pd.read_sql(select(GoldRates), engine, parse_dates=['pricedate'], index_col='pricedate')"
   ]
  },
  {
   "cell_type": "code",
   "execution_count": 28,
   "metadata": {},
   "outputs": [
    {
     "name": "stdout",
     "output_type": "stream",
     "text": [
      "<class 'pandas.core.frame.DataFrame'>\n",
      "DatetimeIndex: 865 entries, 2021-07-01 to 2023-11-13\n",
      "Data columns (total 3 columns):\n",
      " #   Column    Non-Null Count  Dtype  \n",
      "---  ------    --------------  -----  \n",
      " 0   price22k  865 non-null    float64\n",
      " 1   price24k  865 non-null    float64\n",
      " 2   price18k  865 non-null    float64\n",
      "dtypes: float64(3)\n",
      "memory usage: 27.0 KB\n"
     ]
    }
   ],
   "source": [
    "df_2.info()"
   ]
  }
 ],
 "metadata": {
  "kernelspec": {
   "display_name": "my_env",
   "language": "python",
   "name": "python3"
  },
  "language_info": {
   "codemirror_mode": {
    "name": "ipython",
    "version": 3
   },
   "file_extension": ".py",
   "mimetype": "text/x-python",
   "name": "python",
   "nbconvert_exporter": "python",
   "pygments_lexer": "ipython3",
   "version": "3.8.5"
  }
 },
 "nbformat": 4,
 "nbformat_minor": 2
}
